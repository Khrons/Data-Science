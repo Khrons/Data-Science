{
  "nbformat": 4,
  "nbformat_minor": 0,
  "metadata": {
    "colab": {
      "name": "House_prices.ipynb",
      "provenance": [],
      "authorship_tag": "ABX9TyOrYQQ7g2YGxlkVYQlQzGKP",
      "include_colab_link": true
    },
    "kernelspec": {
      "name": "python3",
      "display_name": "Python 3"
    }
  },
  "cells": [
    {
      "cell_type": "markdown",
      "metadata": {
        "id": "view-in-github",
        "colab_type": "text"
      },
      "source": [
        "<a href=\"https://colab.research.google.com/github/Khrons/Kaggle-Science/blob/master/House_prices.ipynb\" target=\"_parent\"><img src=\"https://colab.research.google.com/assets/colab-badge.svg\" alt=\"Open In Colab\"/></a>"
      ]
    },
    {
      "cell_type": "markdown",
      "metadata": {
        "id": "tfMPBThkZsAM"
      },
      "source": [
        "# Housing Prices Competition\r\n",
        "\r\n",
        "O Housing Prices é uma competição do Kaggle com o objetivo de uso do Machine Learning/Aprendizado de Máquinas para a prática dos estudantes da área. O competidor visa predizer os valores finais de cada casa (dado um conjunto de dados para teste). \r\n",
        "\r\n",
        "Mas nesse artigo vamos por um outro caminho, através da visualização dos dados. \r\n",
        "Iremos descobrir qual é a casa (ou mansão) que possui o valor mais alto de venda e porque conseguiu ser vendida a esse preço. "
      ]
    },
    {
      "cell_type": "code",
      "metadata": {
        "id": "HY_lSosySM1T"
      },
      "source": [
        "# Importa as bibliotecas necessárias\r\n",
        "import pandas as pd\r\n",
        "import matplotlib.pyplot as plt\r\n",
        "import numpy as np\r\n",
        "\r\n",
        "%matplotlib inline"
      ],
      "execution_count": 6,
      "outputs": []
    },
    {
      "cell_type": "code",
      "metadata": {
        "id": "MZNvr-UJeREA"
      },
      "source": [
        "# Colocando os dados em um DataFrame\r\n",
        "url = 'https://raw.githubusercontent.com/Khrons/Kaggle-Science/master/data/train.csv'\r\n",
        "df1 = pd.read_csv(url)"
      ],
      "execution_count": 4,
      "outputs": []
    },
    {
      "cell_type": "markdown",
      "metadata": {
        "id": "1qpUIstDk7dK"
      },
      "source": [
        "# **Qual é a casa mais valiosa?**\r\n",
        "\r\n",
        "---\r\n",
        "\r\n"
      ]
    },
    {
      "cell_type": "markdown",
      "metadata": {
        "id": "3WNSfsx6ZUf8"
      },
      "source": [
        "Pela descrição dos valores das casas, temos que a casa mais valiosa está no valor de **755 mil**. E 75% dos valores estão abaixo de 214 mil. \r\n"
      ]
    },
    {
      "cell_type": "code",
      "metadata": {
        "colab": {
          "base_uri": "https://localhost:8080/"
        },
        "id": "c-x1oC7nlACb",
        "outputId": "819e1bc8-b84f-4a41-b6b5-4d2a0c1bfe76"
      },
      "source": [
        "df1['SalePrice'].describe()"
      ],
      "execution_count": 3,
      "outputs": [
        {
          "output_type": "execute_result",
          "data": {
            "text/plain": [
              "count      1460.000000\n",
              "mean     180921.195890\n",
              "std       79442.502883\n",
              "min       34900.000000\n",
              "25%      129975.000000\n",
              "50%      163000.000000\n",
              "75%      214000.000000\n",
              "max      755000.000000\n",
              "Name: SalePrice, dtype: float64"
            ]
          },
          "metadata": {
            "tags": []
          },
          "execution_count": 3
        }
      ]
    },
    {
      "cell_type": "markdown",
      "metadata": {
        "id": "dPb-r6etZb7U"
      },
      "source": [
        "\r\n",
        "\r\n",
        "*O que faz essa casa ser tão valiosa?*\r\n",
        "Vamos dar uma olhada em suas propriedades"
      ]
    },
    {
      "cell_type": "code",
      "metadata": {
        "colab": {
          "base_uri": "https://localhost:8080/",
          "height": 129
        },
        "id": "1rZTDmiboKsD",
        "outputId": "fd476e59-2d95-44d8-bebb-fa999f90b84e"
      },
      "source": [
        "df1.loc[df1['SalePrice'] == 755000]"
      ],
      "execution_count": 4,
      "outputs": [
        {
          "output_type": "execute_result",
          "data": {
            "text/html": [
              "<div>\n",
              "<style scoped>\n",
              "    .dataframe tbody tr th:only-of-type {\n",
              "        vertical-align: middle;\n",
              "    }\n",
              "\n",
              "    .dataframe tbody tr th {\n",
              "        vertical-align: top;\n",
              "    }\n",
              "\n",
              "    .dataframe thead th {\n",
              "        text-align: right;\n",
              "    }\n",
              "</style>\n",
              "<table border=\"1\" class=\"dataframe\">\n",
              "  <thead>\n",
              "    <tr style=\"text-align: right;\">\n",
              "      <th></th>\n",
              "      <th>Id</th>\n",
              "      <th>MSSubClass</th>\n",
              "      <th>MSZoning</th>\n",
              "      <th>LotFrontage</th>\n",
              "      <th>LotArea</th>\n",
              "      <th>Street</th>\n",
              "      <th>Alley</th>\n",
              "      <th>LotShape</th>\n",
              "      <th>LandContour</th>\n",
              "      <th>Utilities</th>\n",
              "      <th>LotConfig</th>\n",
              "      <th>LandSlope</th>\n",
              "      <th>Neighborhood</th>\n",
              "      <th>Condition1</th>\n",
              "      <th>Condition2</th>\n",
              "      <th>BldgType</th>\n",
              "      <th>HouseStyle</th>\n",
              "      <th>OverallQual</th>\n",
              "      <th>OverallCond</th>\n",
              "      <th>YearBuilt</th>\n",
              "      <th>YearRemodAdd</th>\n",
              "      <th>RoofStyle</th>\n",
              "      <th>RoofMatl</th>\n",
              "      <th>Exterior1st</th>\n",
              "      <th>Exterior2nd</th>\n",
              "      <th>MasVnrType</th>\n",
              "      <th>MasVnrArea</th>\n",
              "      <th>ExterQual</th>\n",
              "      <th>ExterCond</th>\n",
              "      <th>Foundation</th>\n",
              "      <th>BsmtQual</th>\n",
              "      <th>BsmtCond</th>\n",
              "      <th>BsmtExposure</th>\n",
              "      <th>BsmtFinType1</th>\n",
              "      <th>BsmtFinSF1</th>\n",
              "      <th>BsmtFinType2</th>\n",
              "      <th>BsmtFinSF2</th>\n",
              "      <th>BsmtUnfSF</th>\n",
              "      <th>TotalBsmtSF</th>\n",
              "      <th>Heating</th>\n",
              "      <th>...</th>\n",
              "      <th>CentralAir</th>\n",
              "      <th>Electrical</th>\n",
              "      <th>1stFlrSF</th>\n",
              "      <th>2ndFlrSF</th>\n",
              "      <th>LowQualFinSF</th>\n",
              "      <th>GrLivArea</th>\n",
              "      <th>BsmtFullBath</th>\n",
              "      <th>BsmtHalfBath</th>\n",
              "      <th>FullBath</th>\n",
              "      <th>HalfBath</th>\n",
              "      <th>BedroomAbvGr</th>\n",
              "      <th>KitchenAbvGr</th>\n",
              "      <th>KitchenQual</th>\n",
              "      <th>TotRmsAbvGrd</th>\n",
              "      <th>Functional</th>\n",
              "      <th>Fireplaces</th>\n",
              "      <th>FireplaceQu</th>\n",
              "      <th>GarageType</th>\n",
              "      <th>GarageYrBlt</th>\n",
              "      <th>GarageFinish</th>\n",
              "      <th>GarageCars</th>\n",
              "      <th>GarageArea</th>\n",
              "      <th>GarageQual</th>\n",
              "      <th>GarageCond</th>\n",
              "      <th>PavedDrive</th>\n",
              "      <th>WoodDeckSF</th>\n",
              "      <th>OpenPorchSF</th>\n",
              "      <th>EnclosedPorch</th>\n",
              "      <th>3SsnPorch</th>\n",
              "      <th>ScreenPorch</th>\n",
              "      <th>PoolArea</th>\n",
              "      <th>PoolQC</th>\n",
              "      <th>Fence</th>\n",
              "      <th>MiscFeature</th>\n",
              "      <th>MiscVal</th>\n",
              "      <th>MoSold</th>\n",
              "      <th>YrSold</th>\n",
              "      <th>SaleType</th>\n",
              "      <th>SaleCondition</th>\n",
              "      <th>SalePrice</th>\n",
              "    </tr>\n",
              "  </thead>\n",
              "  <tbody>\n",
              "    <tr>\n",
              "      <th>691</th>\n",
              "      <td>692</td>\n",
              "      <td>60</td>\n",
              "      <td>RL</td>\n",
              "      <td>104.0</td>\n",
              "      <td>21535</td>\n",
              "      <td>Pave</td>\n",
              "      <td>NaN</td>\n",
              "      <td>IR1</td>\n",
              "      <td>Lvl</td>\n",
              "      <td>AllPub</td>\n",
              "      <td>Corner</td>\n",
              "      <td>Gtl</td>\n",
              "      <td>NoRidge</td>\n",
              "      <td>Norm</td>\n",
              "      <td>Norm</td>\n",
              "      <td>1Fam</td>\n",
              "      <td>2Story</td>\n",
              "      <td>10</td>\n",
              "      <td>6</td>\n",
              "      <td>1994</td>\n",
              "      <td>1995</td>\n",
              "      <td>Gable</td>\n",
              "      <td>WdShngl</td>\n",
              "      <td>HdBoard</td>\n",
              "      <td>HdBoard</td>\n",
              "      <td>BrkFace</td>\n",
              "      <td>1170.0</td>\n",
              "      <td>Ex</td>\n",
              "      <td>TA</td>\n",
              "      <td>PConc</td>\n",
              "      <td>Ex</td>\n",
              "      <td>TA</td>\n",
              "      <td>Gd</td>\n",
              "      <td>GLQ</td>\n",
              "      <td>1455</td>\n",
              "      <td>Unf</td>\n",
              "      <td>0</td>\n",
              "      <td>989</td>\n",
              "      <td>2444</td>\n",
              "      <td>GasA</td>\n",
              "      <td>...</td>\n",
              "      <td>Y</td>\n",
              "      <td>SBrkr</td>\n",
              "      <td>2444</td>\n",
              "      <td>1872</td>\n",
              "      <td>0</td>\n",
              "      <td>4316</td>\n",
              "      <td>0</td>\n",
              "      <td>1</td>\n",
              "      <td>3</td>\n",
              "      <td>1</td>\n",
              "      <td>4</td>\n",
              "      <td>1</td>\n",
              "      <td>Ex</td>\n",
              "      <td>10</td>\n",
              "      <td>Typ</td>\n",
              "      <td>2</td>\n",
              "      <td>Ex</td>\n",
              "      <td>Attchd</td>\n",
              "      <td>1994.0</td>\n",
              "      <td>Fin</td>\n",
              "      <td>3</td>\n",
              "      <td>832</td>\n",
              "      <td>TA</td>\n",
              "      <td>TA</td>\n",
              "      <td>Y</td>\n",
              "      <td>382</td>\n",
              "      <td>50</td>\n",
              "      <td>0</td>\n",
              "      <td>0</td>\n",
              "      <td>0</td>\n",
              "      <td>0</td>\n",
              "      <td>NaN</td>\n",
              "      <td>NaN</td>\n",
              "      <td>NaN</td>\n",
              "      <td>0</td>\n",
              "      <td>1</td>\n",
              "      <td>2007</td>\n",
              "      <td>WD</td>\n",
              "      <td>Normal</td>\n",
              "      <td>755000</td>\n",
              "    </tr>\n",
              "  </tbody>\n",
              "</table>\n",
              "<p>1 rows × 81 columns</p>\n",
              "</div>"
            ],
            "text/plain": [
              "      Id  MSSubClass MSZoning  ...  SaleType  SaleCondition SalePrice\n",
              "691  692          60       RL  ...        WD         Normal    755000\n",
              "\n",
              "[1 rows x 81 columns]"
            ]
          },
          "metadata": {
            "tags": []
          },
          "execution_count": 4
        }
      ]
    },
    {
      "cell_type": "markdown",
      "metadata": {
        "id": "nlONApU0B921"
      },
      "source": [
        "A casa 692 possui um LotArea de cerca de **20 mil metros quadrados** (do tamanho de uma chacára grande). A propriedade também está em uma *zona mais afastada* do centro, possui a *rua pavimentada*, foi *recentemente construída e remodelada*, possui instalação de *aquecimento a gás* e *circulação central*. Com 5 *banheiros* e 4 *quartos*, 1 *cozinha*, 2 *lareiras*, uma *garagem* com capacidade para três carros e uma *piscina* de 15 metros.\r\n",
        "\r\n",
        "**Teoria:**\r\n",
        "\r\n",
        "*   *A LotArea da casa 692 é a maior ou uma das maiores e isso por si só justificaria o valor?*\r\n",
        "\r\n"
      ]
    },
    {
      "cell_type": "code",
      "metadata": {
        "colab": {
          "base_uri": "https://localhost:8080/"
        },
        "id": "eCUdNbztup4t",
        "outputId": "d3494273-695b-4747-d955-38a0d161a730"
      },
      "source": [
        "df1['LotArea'].describe()"
      ],
      "execution_count": 37,
      "outputs": [
        {
          "output_type": "execute_result",
          "data": {
            "text/plain": [
              "count      1460.000000\n",
              "mean      10516.828082\n",
              "std        9981.264932\n",
              "min        1300.000000\n",
              "25%        7553.500000\n",
              "50%        9478.500000\n",
              "75%       11601.500000\n",
              "max      215245.000000\n",
              "Name: LotArea, dtype: float64"
            ]
          },
          "metadata": {
            "tags": []
          },
          "execution_count": 37
        }
      ]
    },
    {
      "cell_type": "markdown",
      "metadata": {
        "id": "aJ5LgA24CpJz"
      },
      "source": [
        "De fato, a casa 692 é um dos maiores lotes do conjunto de dados, já que 75% dos dados estão abaixo de 11601 pés quadrados (e ela tem 21535 pés quadrados). \r\n",
        "---\r\n",
        "**Porém, não é o maior lote**. Inclusive o maior lote é quase *10 vezes maior* que a casa 692 (maior que o Estádio do Maracanã) e foi vendida por um preço *2 vezes menor*. Então, quais são os fatores que levam uma casa ser tão valorizada?"
      ]
    },
    {
      "cell_type": "code",
      "metadata": {
        "colab": {
          "base_uri": "https://localhost:8080/",
          "height": 284
        },
        "id": "orMD7MYfS6Rd",
        "outputId": "7990cdaf-94fc-42fd-fd39-d23c75b4c76e"
      },
      "source": [
        "fig, ax = plt.subplots()\r\n",
        "y  = df1['SalePrice']\r\n",
        "x = df1['YearBuilt']\r\n",
        "\r\n",
        "m, b = np.polyfit((df1['YearBuilt']),np.log(df1['SalePrice']), 1)\r\n",
        "plt.scatter(x, np.log(y))\r\n",
        "\r\n",
        "plt.xlabel(\"Year Built\", fontsize=15)\r\n",
        "plt.ylabel(\"Sale Price\", fontsize=15)\r\n",
        "\r\n",
        "plt.plot(df1['YearBuilt'], m*df1['YearBuilt'] + b)\r\n",
        "plt.show()"
      ],
      "execution_count": 25,
      "outputs": [
        {
          "output_type": "display_data",
          "data": {
            "image/png": "[encoded data removed]",
            "text/plain": [
              "<Figure size 432x288 with 1 Axes>"
            ]
          },
          "metadata": {
            "tags": [],
            "needs_background": "light"
          }
        }
      ]
    },
    {
      "cell_type": "markdown",
      "metadata": {
        "id": "CmtxdhRbZmEB"
      },
      "source": [
        "# **Apêndice 1: Descrição dos Dados**\r\n",
        "\r\n",
        "---\r\n",
        "\r\n",
        "*Como os dados estão estruturados:*\r\n",
        "\r\n",
        "\r\n",
        "*   **Id**: Número gerado para a identificação da propriedade\r\n",
        "*   **MSSubClass**: Tipo de propriedade\r\n",
        "*   **MsZoning**: Tipo de zona local\r\n",
        "*   **LotFrontage**: Tamanho da rua conectado à propriedade (Em pés)\r\n",
        "*   **LotArea**: Tamanho do lote (Em Pé Quadrado)\r\n",
        "*   **Street**: Tipo de estrada que possui em frente a propriedade\r\n",
        "*   **Alley**: Tipo de interligação da propriedade (becos)\r\n",
        "*   **LotShape**: Estrutura geral da propriedade\r\n",
        "*   **LandContour**: Nivelamento da propriedade\r\n",
        "*   **Utilities**: Tipo de utilitários disponíveis\r\n",
        "*   **LotConfig**: Configuração do Lote\r\n",
        "*   **LandSlope**: Declive da propriedade\r\n",
        "*   **Neighborhood**: Localizações físicas dentro dos limites da cidade\r\n",
        "*   **Condition1**: Proximidade de várias condições\r\n",
        "*   **Condition2**: Proximidade de várias condições (se mais de uma estiver presente)\r\n",
        "*   **BldgType**: Tipo de moradia\r\n",
        "*   **HouseStyle**: Estilo de moradia\r\n",
        "*   **OverallQual**: Avalia o material geral e acabamento da casa\r\n",
        "*   **YearBuilt**: Data original da construção\r\n",
        "*   **YearRemodAdd**: Data de remodelação (igual à data de construção, se não houver remodelação ou acréscimos)\r\n",
        "*   **RoofStyle**: Tipo do teto\r\n",
        "*   **RoofMatl**: Material do teto\r\n",
        "*   **Exterior1st**: Cobertura externa interna\r\n",
        "*   **Exterior2nd**: Cobertura externa interna (se houver mais de um material)\r\n",
        "*   **MasVnrType**: Tipo de folheado de alvenaria\r\n",
        "*   **MasVnrArea**: Área de folheado de alvenaria (Em Pés Quadrados)\r\n",
        "*   **ExterQual**: Avalia a qualidade do material no exterior \r\n",
        "*   **ExterCond**: Avalia a condição atual do material no exterior\r\n",
        "*   **Foundation**: Tipo de Fundação\r\n",
        "*   **BsmtQual**: Qualidade da altura do Porão\r\n",
        "*   **BsmtCond**: Estado geral do Porão\r\n",
        "*   **BsmtExposure**: Refere-se a exposição em paredes no nível do jardim\r\n",
        "*   **BsmtFinType1**: Classificação da área acabada do porão\r\n",
        "*   **BsmtFinSF1**: Tipo 1 finalizado (Em Pés Quadrados)\r\n",
        "*   **BsmtFinType2**: Classificação da área acabada do porão (se houver vários)\r\n",
        "*  **BsmtFinSF2**: Tipo 2 finalizado (Em Pés Quadrados)\r\n",
        "*   **BsmtUnfSF**: Área não finalizada do Porão (Em Pés Quadrados)\r\n",
        "*   **TotalBsmtSF**: Área Total do Porão (Em Pés Quadrados)\r\n",
        "*   **Heating**: Tipo de aquecimento\r\n",
        "*   **HeatingQC**: Qualidade do aquecimento e condição \r\n",
        "*   **CentralAir**: Ar condicionado central\r\n",
        "*   **Electrical**: Sistema Elétrico\r\n",
        "*   **1stFlrSF**: Tamanho do primeiro andar (Em Pés Quadrados)\r\n",
        "*   **2ndFlrSF**: Tamanho do segundo andar (Em Pés Quadrados)\r\n",
        "*   **LowQualFinSF**: Acabamentos de baixa qualidade na casa(Em Pés Quadrados)\r\n",
        "*   **GrLivArea**: Área de estar acima do nível (Em Pés Quadrados)\r\n",
        "*   **BsmtFullBath**: Banheiros grandes no porão\r\n",
        "*   **BsmtHalfBath**: Banheiros pequenos no porão\r\n",
        "*   **FullBath**: Banheiros grandes acima do nível\r\n",
        "*   **HalfBath**: Banheiros pequenos acima do nível\r\n",
        "*   **Bedroom**: Quartos acima do nível (Não inclui quartos em porão)\r\n",
        "*   **Kitchen**: Cozinhas acima do nível\r\n",
        "*   **KitchenQual**: Qualidade da Cozinha\r\n",
        "*   **TotRmsAbvGrd**: Total de quartos acima do nível (Não inclui banheiros)\r\n",
        "*   **Functional**: Funcionalidade da Propriedade\r\n",
        "*   **Fireplaces**: Número de Lareiras\r\n",
        "*   **FireplaceQu**: Qualidade da Lareira\r\n",
        "*   **GarageType**: Local da Garagem\r\n",
        "*   **GarageYrBlt**: Ano que a garagem foi construída\r\n",
        "*   **GarageFinish**: Situação do interior da garagem\r\n",
        "*  **GarageCars**: Tamanho da Garagem para a capacidade de carros\r\n",
        "*   **GarageArea**: Tamanho da Garagem (Em Pés Quadrados)\r\n",
        "*   **GarageQual**: Qualidade da Garagem\r\n",
        "*   **GarageCond**: Condição da Garagem\r\n",
        "*   **PavedDrive**: Caminho pavimentado\r\n",
        "*   **WoodDeckSF**: Área coberta de madeira (Em Pés Quadrados)\r\n",
        "*   **OpenPorchSF**: Área de Varanda Aberta (Em Pés Quadrados)\r\n",
        "*   **EnclosedPorch**: Área de Varanda Fechada (Em Pés Quadrados)\r\n",
        "*   **3SsnPorch**: Área de Varanda Three season (Em Pés Quadrados)\r\n",
        "*   **ScreenPorch**: Área da Varanda com Tela (Em Pés Quadrados)\r\n",
        "*   **PoolArea**: Área da Piscina (Em Pés Quadrados)\r\n",
        "*   **PoolQC**: Qualidade da Piscina\r\n",
        "*   **Fence**: Qualidade da Cerca\r\n",
        "*   **MiscFeature**: Recursos diversos não cobertas por outras categorias\r\n",
        "*   **MiscVal**: Valor de recursos diversos\r\n",
        "*  **MoSold**: Mês da venda (MM)\r\n",
        "*   **YrSold**: Ano da venda (YYYY)\r\n",
        "*   **SaleType**: Tipo de venda\r\n",
        "*   **SaleCondition**: Condição para venda\r\n",
        "*   **SalePrice**: Preço de venda da Propriedade\r\n"
      ]
    }
  ]
}